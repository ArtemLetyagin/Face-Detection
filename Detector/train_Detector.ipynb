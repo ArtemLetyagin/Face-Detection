{
 "cells": [
  {
   "cell_type": "code",
   "execution_count": 16,
   "id": "77732333",
   "metadata": {},
   "outputs": [],
   "source": [
    "#IMPORTS\n",
    "from dataset import Dataset_maker\n",
    "from traindataset import TrainDataset\n",
    "from torch.utils.data import DataLoader\n",
    "from model_detector import Detector\n",
    "import torch"
   ]
  },
  {
   "cell_type": "code",
   "execution_count": 2,
   "id": "74f5b738",
   "metadata": {},
   "outputs": [],
   "source": [
    "#DATA MAKER\n",
    "path_wider_images = 'path to WIDER dataset'\n",
    "path_annot = 'Detector/wider_face_train_bbx_gt.txt'\n",
    "dm = Dataset_maker(path_wider_images, path_annot)"
   ]
  },
  {
   "cell_type": "code",
   "execution_count": 3,
   "id": "36aa30db",
   "metadata": {},
   "outputs": [
    {
     "name": "stdout",
     "output_type": "stream",
     "text": [
      "305 images saved successfully\n"
     ]
    }
   ],
   "source": [
    "#CREATE FOLDERS\n",
    "number = 5 #number of images from each folder\n",
    "path_for_save = 'path where you want to save face for train Detector'\n",
    "dm.create_folders(path_for_save, number)"
   ]
  },
  {
   "cell_type": "code",
   "execution_count": 4,
   "id": "0a4cc90c",
   "metadata": {},
   "outputs": [
    {
     "name": "stdout",
     "output_type": "stream",
     "text": [
      "DataFrame saved successfully\n"
     ]
    }
   ],
   "source": [
    "#CREATE AND SAVE DATAFRAME FOR TRAIN DATASET\n",
    "dm.dataframe('faces_for_train.csv')"
   ]
  },
  {
   "cell_type": "code",
   "execution_count": 5,
   "id": "6043384f",
   "metadata": {},
   "outputs": [
    {
     "data": {
      "text/html": [
       "<div>\n",
       "<style scoped>\n",
       "    .dataframe tbody tr th:only-of-type {\n",
       "        vertical-align: middle;\n",
       "    }\n",
       "\n",
       "    .dataframe tbody tr th {\n",
       "        vertical-align: top;\n",
       "    }\n",
       "\n",
       "    .dataframe thead th {\n",
       "        text-align: right;\n",
       "    }\n",
       "</style>\n",
       "<table border=\"1\" class=\"dataframe\">\n",
       "  <thead>\n",
       "    <tr style=\"text-align: right;\">\n",
       "      <th></th>\n",
       "      <th>id</th>\n",
       "      <th>xmin</th>\n",
       "      <th>ymin</th>\n",
       "      <th>xmax</th>\n",
       "      <th>ymax</th>\n",
       "    </tr>\n",
       "  </thead>\n",
       "  <tbody>\n",
       "    <tr>\n",
       "      <th>0</th>\n",
       "      <td>0</td>\n",
       "      <td>433</td>\n",
       "      <td>189</td>\n",
       "      <td>467</td>\n",
       "      <td>231</td>\n",
       "    </tr>\n",
       "    <tr>\n",
       "      <th>1</th>\n",
       "      <td>0</td>\n",
       "      <td>88</td>\n",
       "      <td>203</td>\n",
       "      <td>141</td>\n",
       "      <td>267</td>\n",
       "    </tr>\n",
       "    <tr>\n",
       "      <th>2</th>\n",
       "      <td>0</td>\n",
       "      <td>5</td>\n",
       "      <td>203</td>\n",
       "      <td>36</td>\n",
       "      <td>236</td>\n",
       "    </tr>\n",
       "    <tr>\n",
       "      <th>3</th>\n",
       "      <td>0</td>\n",
       "      <td>296</td>\n",
       "      <td>174</td>\n",
       "      <td>341</td>\n",
       "      <td>226</td>\n",
       "    </tr>\n",
       "    <tr>\n",
       "      <th>4</th>\n",
       "      <td>0</td>\n",
       "      <td>219</td>\n",
       "      <td>166</td>\n",
       "      <td>254</td>\n",
       "      <td>212</td>\n",
       "    </tr>\n",
       "    <tr>\n",
       "      <th>...</th>\n",
       "      <td>...</td>\n",
       "      <td>...</td>\n",
       "      <td>...</td>\n",
       "      <td>...</td>\n",
       "      <td>...</td>\n",
       "    </tr>\n",
       "    <tr>\n",
       "      <th>2613</th>\n",
       "      <td>304</td>\n",
       "      <td>848</td>\n",
       "      <td>263</td>\n",
       "      <td>874</td>\n",
       "      <td>295</td>\n",
       "    </tr>\n",
       "    <tr>\n",
       "      <th>2614</th>\n",
       "      <td>304</td>\n",
       "      <td>892</td>\n",
       "      <td>313</td>\n",
       "      <td>924</td>\n",
       "      <td>365</td>\n",
       "    </tr>\n",
       "    <tr>\n",
       "      <th>2615</th>\n",
       "      <td>304</td>\n",
       "      <td>641</td>\n",
       "      <td>300</td>\n",
       "      <td>658</td>\n",
       "      <td>340</td>\n",
       "    </tr>\n",
       "    <tr>\n",
       "      <th>2616</th>\n",
       "      <td>304</td>\n",
       "      <td>554</td>\n",
       "      <td>321</td>\n",
       "      <td>590</td>\n",
       "      <td>375</td>\n",
       "    </tr>\n",
       "    <tr>\n",
       "      <th>2617</th>\n",
       "      <td>304</td>\n",
       "      <td>727</td>\n",
       "      <td>362</td>\n",
       "      <td>765</td>\n",
       "      <td>433</td>\n",
       "    </tr>\n",
       "  </tbody>\n",
       "</table>\n",
       "<p>2618 rows × 5 columns</p>\n",
       "</div>"
      ],
      "text/plain": [
       "       id  xmin  ymin  xmax  ymax\n",
       "0       0   433   189   467   231\n",
       "1       0    88   203   141   267\n",
       "2       0     5   203    36   236\n",
       "3       0   296   174   341   226\n",
       "4       0   219   166   254   212\n",
       "...   ...   ...   ...   ...   ...\n",
       "2613  304   848   263   874   295\n",
       "2614  304   892   313   924   365\n",
       "2615  304   641   300   658   340\n",
       "2616  304   554   321   590   375\n",
       "2617  304   727   362   765   433\n",
       "\n",
       "[2618 rows x 5 columns]"
      ]
     },
     "execution_count": 5,
     "metadata": {},
     "output_type": "execute_result"
    }
   ],
   "source": [
    "#SAVED DATAFRAME\n",
    "dm.get_dataframe()"
   ]
  },
  {
   "cell_type": "code",
   "execution_count": 8,
   "id": "d8d5d33d",
   "metadata": {},
   "outputs": [],
   "source": [
    "#TRAIN DATASET FOR DATALOADER\n",
    "train_dataset = TrainDataset('faces_for_train.csv', path_for_save)"
   ]
  },
  {
   "cell_type": "code",
   "execution_count": 11,
   "id": "4e417e73",
   "metadata": {},
   "outputs": [],
   "source": [
    "#DATALOADER\n",
    "def collate_fn(batch):\n",
    "    return tuple(zip(*batch))\n",
    "\n",
    "train_data_loader = DataLoader(\n",
    "    train_dataset,\n",
    "    batch_size=2,\n",
    "    shuffle=True,\n",
    "    collate_fn=collate_fn\n",
    ")"
   ]
  },
  {
   "cell_type": "code",
   "execution_count": 14,
   "id": "55a3c537",
   "metadata": {},
   "outputs": [],
   "source": [
    "#MODEL Faster R-CNN\n",
    "detector = Detector()"
   ]
  },
  {
   "cell_type": "code",
   "execution_count": 18,
   "id": "116618d0",
   "metadata": {},
   "outputs": [],
   "source": [
    "#DEVICE\n",
    "device = torch.device('cuda') if torch.cuda.is_available() else torch.device('cpu')"
   ]
  },
  {
   "cell_type": "code",
   "execution_count": 17,
   "id": "fd3eb806",
   "metadata": {},
   "outputs": [],
   "source": [
    "#OPTIMIZER\n",
    "params = [p for p in detector.parameters() if p.requires_grad]\n",
    "optimizer = torch.optim.SGD(params, lr=0.005, momentum=0.9, weight_decay=0.0005)\n",
    "num_epochs = 100"
   ]
  },
  {
   "cell_type": "code",
   "execution_count": 20,
   "id": "b4e0fb19",
   "metadata": {},
   "outputs": [],
   "source": [
    "#TRAINING MODEL\n",
    "itr = 1\n",
    "print(f'Dataset length: {train_dataset.__len__()}')\n",
    "for epoch in range(num_epochs):\n",
    "    \n",
    "    for images, targets in train_data_loader:\n",
    "        images = list(image.to(device) for image in images)\n",
    "        targets = [{k: v.to(device) for k, v in t.items()} for t in targets]\n",
    "        \n",
    "        loss_dict = detector(images, targets)\n",
    "        \n",
    "        losses = sum(loss for loss in loss_dict.values())\n",
    "        loss_value = losses.item()\n",
    "        \n",
    "        optimizer.zero_grad()\n",
    "        losses.backward()\n",
    "        optimizer.step()\n",
    "        \n",
    "        if itr % 50 == 0:\n",
    "            print(f'Iteration #{itr} loss: {loss_value}')\n",
    "            \n",
    "        itr+=1\n",
    "        \n",
    "    print(f'Epoch #{epoch} loss: {loss_value}')\n",
    "    \n",
    "    torch.save(model.state_dict(), f'detector{epoch}.pth') #SAVE WEIGHTS EACH EPOCH"
   ]
  }
 ],
 "metadata": {
  "kernelspec": {
   "display_name": "Python 3",
   "language": "python",
   "name": "python3"
  },
  "language_info": {
   "codemirror_mode": {
    "name": "ipython",
    "version": 3
   },
   "file_extension": ".py",
   "mimetype": "text/x-python",
   "name": "python",
   "nbconvert_exporter": "python",
   "pygments_lexer": "ipython3",
   "version": "3.8.8"
  }
 },
 "nbformat": 4,
 "nbformat_minor": 5
}
