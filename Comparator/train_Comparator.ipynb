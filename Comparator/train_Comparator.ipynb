{
 "cells": [
  {
   "cell_type": "code",
   "execution_count": 1,
   "id": "89f06bff",
   "metadata": {},
   "outputs": [],
   "source": [
    "#IMPORTS\n",
    "from siamese_network import Comparator, ContrastiveLoss\n",
    "from SiamesNetworkDataset import SiameseNetworkDataset\n",
    "import torchvision.datasets as datasets\n",
    "import torchvision.transforms as transforms\n",
    "from torch.utils.data import DataLoader\n",
    "import torch"
   ]
  },
  {
   "cell_type": "code",
   "execution_count": 2,
   "id": "761d7667",
   "metadata": {},
   "outputs": [],
   "source": [
    "#TRAIN DATASET FOR DATALOADER\n",
    "folder_dataset = datasets.ImageFolder(root=\"./LFWDataset/archive/lfw-deepfunneled/lfw-deepfunneled\")\n",
    "\n",
    "transformation = transforms.Compose([transforms.Resize((100,100)),\n",
    "                                    transforms.ToTensor(),\n",
    "                                    transforms.CenterCrop(50)])\n",
    "#size of images should be 50x50\n",
    "lfw_dataset = SiameseNetworkDataset(imageFolderDataset=folder_dataset, transforms=transformation)"
   ]
  },
  {
   "cell_type": "code",
   "execution_count": 3,
   "id": "d1b7af93",
   "metadata": {},
   "outputs": [],
   "source": [
    "#DATALOADER\n",
    "train_dataloader = DataLoader(lfw_dataset,\n",
    "                        shuffle=True,\n",
    "                        batch_size=64)"
   ]
  },
  {
   "cell_type": "code",
   "execution_count": 4,
   "id": "f864a6d0",
   "metadata": {},
   "outputs": [],
   "source": [
    "#MODEL AND OPTIMIZER\n",
    "model = Comparator()\n",
    "criterion = ContrastiveLoss()\n",
    "optimizer = torch.optim.Adam(model.parameters(), lr = 0.0005 )"
   ]
  },
  {
   "cell_type": "code",
   "execution_count": 5,
   "id": "f3350ebe",
   "metadata": {},
   "outputs": [],
   "source": [
    "#TRAINING MODEL\n",
    "num_epochs = 100\n",
    "print(f'Dataset length: {lfw_dataset.__len__()}')\n",
    "for epoch in range(num_epochs):\n",
    "    for i, (img0, img1, label) in enumerate(train_dataloader, 0):\n",
    "        \n",
    "        optimizer.zero_grad()\n",
    "        output1, output2 = model(img0, img1)\n",
    "        loss_contrastive = criterion(output1, output2, label)\n",
    "        loss_contrastive.backward()\n",
    "        optimizer.step()\n",
    "\n",
    "    if epoch % 10 == 0 :\n",
    "        print(f\"Epoch number {epoch}\\n Current loss {loss_contrastive.item()}\\n\")\n",
    "    torch.save(model.state_dict(), f'comparator{epoch}.pth') #SAVE WEIGHTS EACH EPOCH"
   ]
  }
 ],
 "metadata": {
  "kernelspec": {
   "display_name": "Python 3",
   "language": "python",
   "name": "python3"
  },
  "language_info": {
   "codemirror_mode": {
    "name": "ipython",
    "version": 3
   },
   "file_extension": ".py",
   "mimetype": "text/x-python",
   "name": "python",
   "nbconvert_exporter": "python",
   "pygments_lexer": "ipython3",
   "version": "3.8.8"
  }
 },
 "nbformat": 4,
 "nbformat_minor": 5
}
