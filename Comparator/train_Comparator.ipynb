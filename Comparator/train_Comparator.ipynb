{
 "cells": [
  {
   "cell_type": "code",
   "execution_count": 1,
   "id": "89f06bff",
   "metadata": {},
   "outputs": [],
   "source": [
    "#IMPORTS\n",
    "from siamese_network import Comparator, ContrastiveLoss\n",
    "from SiamesNetworkDataset import SiameseNetworkDataset\n",
    "import torchvision.datasets as datasets\n",
    "import torchvision.transforms as transforms\n",
    "from torch.utils.data import DataLoader\n",
    "import torch"
   ]
  },
  {
   "cell_type": "code",
   "execution_count": 2,
   "id": "761d7667",
   "metadata": {},
   "outputs": [],
   "source": [
    "#TRAIN DATASET FOR DATALOADER\n",
    "folder_dataset = datasets.ImageFolder(root=\"./LFWDataset/archive/lfw-deepfunneled/lfw-deepfunneled\")\n",
    "\n",
    "transformation = transforms.Compose([transforms.Resize((100,100)),\n",
    "                                    transforms.ToTensor(),\n",
    "                                    transforms.CenterCrop(50)])\n",
    "#size of images should be 50x50\n",
    "lfw_dataset = SiameseNetworkDataset(imageFolderDataset=folder_dataset, transforms=transformation)"
   ]
  },
  {
   "cell_type": "code",
   "execution_count": 3,
   "id": "d1b7af93",
   "metadata": {},
   "outputs": [],
   "source": [
    "#DATALOADER\n",
    "train_dataloader = DataLoader(lfw_dataset,\n",
    "                        shuffle=True,\n",
    "                        batch_size=64)"
   ]
  },
  {
   "cell_type": "code",
   "execution_count": 4,
   "id": "f864a6d0",
   "metadata": {},
   "outputs": [],
   "source": [
    "#MODEL AND OPTIMIZER\n",
    "model = Comparator()\n",
    "criterion = ContrastiveLoss()\n",
    "optimizer = torch.optim.Adam(model.parameters(), lr = 0.0005 )"
   ]
  },
  {
   "cell_type": "code",
   "execution_count": 5,
   "id": "f3350ebe",
   "metadata": {},
   "outputs": [
    {
     "name": "stdout",
     "output_type": "stream",
     "text": [
      "Dataset length: 10\n",
      "Epoch number 0\n",
      " Current loss 1.8228065967559814\n",
      "\n",
      "Epoch number 1\n",
      " Current loss 0.767959713935852\n",
      "\n",
      "Epoch number 2\n",
      " Current loss 1.2376301288604736\n",
      "\n",
      "Epoch number 3\n",
      " Current loss 0.4074612557888031\n",
      "\n",
      "Epoch number 4\n",
      " Current loss 1.033398151397705\n",
      "\n",
      "Epoch number 5\n",
      " Current loss 2.3998873233795166\n",
      "\n",
      "Epoch number 6\n",
      " Current loss 1.2728639841079712\n",
      "\n",
      "Epoch number 7\n",
      " Current loss 0.7284114360809326\n",
      "\n",
      "Epoch number 8\n",
      " Current loss 0.3830691874027252\n",
      "\n",
      "Epoch number 9\n",
      " Current loss 0.7930336594581604\n",
      "\n",
      "Epoch number 10\n",
      " Current loss 0.7731119990348816\n",
      "\n",
      "Epoch number 11\n",
      " Current loss 4.354008674621582\n",
      "\n",
      "Epoch number 12\n",
      " Current loss 1.1566826105117798\n",
      "\n",
      "Epoch number 13\n",
      " Current loss 0.9532977342605591\n",
      "\n",
      "Epoch number 14\n",
      " Current loss 0.6427472829818726\n",
      "\n",
      "Epoch number 15\n",
      " Current loss 1.1450164318084717\n",
      "\n",
      "Epoch number 16\n",
      " Current loss 1.404071569442749\n",
      "\n",
      "Epoch number 17\n",
      " Current loss 1.1155822277069092\n",
      "\n",
      "Epoch number 18\n",
      " Current loss 1.2451598644256592\n",
      "\n",
      "Epoch number 19\n",
      " Current loss 1.1730639934539795\n",
      "\n",
      "Epoch number 20\n",
      " Current loss 1.6042630672454834\n",
      "\n"
     ]
    },
    {
     "ename": "KeyboardInterrupt",
     "evalue": "",
     "output_type": "error",
     "traceback": [
      "\u001b[1;31m---------------------------------------------------------------------------\u001b[0m",
      "\u001b[1;31mKeyboardInterrupt\u001b[0m                         Traceback (most recent call last)",
      "\u001b[1;32m<ipython-input-5-b54edf790993>\u001b[0m in \u001b[0;36m<module>\u001b[1;34m\u001b[0m\n\u001b[0;32m      8\u001b[0m         \u001b[0moutput1\u001b[0m\u001b[1;33m,\u001b[0m \u001b[0moutput2\u001b[0m \u001b[1;33m=\u001b[0m \u001b[0mmodel\u001b[0m\u001b[1;33m(\u001b[0m\u001b[0mimg0\u001b[0m\u001b[1;33m,\u001b[0m \u001b[0mimg1\u001b[0m\u001b[1;33m)\u001b[0m\u001b[1;33m\u001b[0m\u001b[1;33m\u001b[0m\u001b[0m\n\u001b[0;32m      9\u001b[0m         \u001b[0mloss_contrastive\u001b[0m \u001b[1;33m=\u001b[0m \u001b[0mcriterion\u001b[0m\u001b[1;33m(\u001b[0m\u001b[0moutput1\u001b[0m\u001b[1;33m,\u001b[0m \u001b[0moutput2\u001b[0m\u001b[1;33m,\u001b[0m \u001b[0mlabel\u001b[0m\u001b[1;33m)\u001b[0m\u001b[1;33m\u001b[0m\u001b[1;33m\u001b[0m\u001b[0m\n\u001b[1;32m---> 10\u001b[1;33m         \u001b[0mloss_contrastive\u001b[0m\u001b[1;33m.\u001b[0m\u001b[0mbackward\u001b[0m\u001b[1;33m(\u001b[0m\u001b[1;33m)\u001b[0m\u001b[1;33m\u001b[0m\u001b[1;33m\u001b[0m\u001b[0m\n\u001b[0m\u001b[0;32m     11\u001b[0m         \u001b[0moptimizer\u001b[0m\u001b[1;33m.\u001b[0m\u001b[0mstep\u001b[0m\u001b[1;33m(\u001b[0m\u001b[1;33m)\u001b[0m\u001b[1;33m\u001b[0m\u001b[1;33m\u001b[0m\u001b[0m\n\u001b[0;32m     12\u001b[0m \u001b[1;33m\u001b[0m\u001b[0m\n",
      "\u001b[1;32m~\\anaconda3\\lib\\site-packages\\torch\\_tensor.py\u001b[0m in \u001b[0;36mbackward\u001b[1;34m(self, gradient, retain_graph, create_graph, inputs)\u001b[0m\n\u001b[0;32m    305\u001b[0m                 \u001b[0mcreate_graph\u001b[0m\u001b[1;33m=\u001b[0m\u001b[0mcreate_graph\u001b[0m\u001b[1;33m,\u001b[0m\u001b[1;33m\u001b[0m\u001b[1;33m\u001b[0m\u001b[0m\n\u001b[0;32m    306\u001b[0m                 inputs=inputs)\n\u001b[1;32m--> 307\u001b[1;33m         \u001b[0mtorch\u001b[0m\u001b[1;33m.\u001b[0m\u001b[0mautograd\u001b[0m\u001b[1;33m.\u001b[0m\u001b[0mbackward\u001b[0m\u001b[1;33m(\u001b[0m\u001b[0mself\u001b[0m\u001b[1;33m,\u001b[0m \u001b[0mgradient\u001b[0m\u001b[1;33m,\u001b[0m \u001b[0mretain_graph\u001b[0m\u001b[1;33m,\u001b[0m \u001b[0mcreate_graph\u001b[0m\u001b[1;33m,\u001b[0m \u001b[0minputs\u001b[0m\u001b[1;33m=\u001b[0m\u001b[0minputs\u001b[0m\u001b[1;33m)\u001b[0m\u001b[1;33m\u001b[0m\u001b[1;33m\u001b[0m\u001b[0m\n\u001b[0m\u001b[0;32m    308\u001b[0m \u001b[1;33m\u001b[0m\u001b[0m\n\u001b[0;32m    309\u001b[0m     \u001b[1;32mdef\u001b[0m \u001b[0mregister_hook\u001b[0m\u001b[1;33m(\u001b[0m\u001b[0mself\u001b[0m\u001b[1;33m,\u001b[0m \u001b[0mhook\u001b[0m\u001b[1;33m)\u001b[0m\u001b[1;33m:\u001b[0m\u001b[1;33m\u001b[0m\u001b[1;33m\u001b[0m\u001b[0m\n",
      "\u001b[1;32m~\\anaconda3\\lib\\site-packages\\torch\\autograd\\__init__.py\u001b[0m in \u001b[0;36mbackward\u001b[1;34m(tensors, grad_tensors, retain_graph, create_graph, grad_variables, inputs)\u001b[0m\n\u001b[0;32m    152\u001b[0m         \u001b[0mretain_graph\u001b[0m \u001b[1;33m=\u001b[0m \u001b[0mcreate_graph\u001b[0m\u001b[1;33m\u001b[0m\u001b[1;33m\u001b[0m\u001b[0m\n\u001b[0;32m    153\u001b[0m \u001b[1;33m\u001b[0m\u001b[0m\n\u001b[1;32m--> 154\u001b[1;33m     Variable._execution_engine.run_backward(\n\u001b[0m\u001b[0;32m    155\u001b[0m         \u001b[0mtensors\u001b[0m\u001b[1;33m,\u001b[0m \u001b[0mgrad_tensors_\u001b[0m\u001b[1;33m,\u001b[0m \u001b[0mretain_graph\u001b[0m\u001b[1;33m,\u001b[0m \u001b[0mcreate_graph\u001b[0m\u001b[1;33m,\u001b[0m \u001b[0minputs\u001b[0m\u001b[1;33m,\u001b[0m\u001b[1;33m\u001b[0m\u001b[1;33m\u001b[0m\u001b[0m\n\u001b[0;32m    156\u001b[0m         allow_unreachable=True, accumulate_grad=True)  # allow_unreachable flag\n",
      "\u001b[1;31mKeyboardInterrupt\u001b[0m: "
     ]
    }
   ],
   "source": [
    "#TRAINING MODEL\n",
    "num_epochs = 100\n",
    "print(f'Dataset length: {lfw_dataset.__len__()}')\n",
    "for epoch in range(num_epochs):\n",
    "    for i, (img0, img1, label) in enumerate(train_dataloader, 0):\n",
    "        \n",
    "        optimizer.zero_grad()\n",
    "        output1, output2 = model(img0, img1)\n",
    "        loss_contrastive = criterion(output1, output2, label)\n",
    "        loss_contrastive.backward()\n",
    "        optimizer.step()\n",
    "\n",
    "    if epoch % 10 == 0 :\n",
    "        print(f\"Epoch number {epoch}\\n Current loss {loss_contrastive.item()}\\n\")\n",
    "    torch.save(model.state_dict(), f'comparator{epoch}.pth') #SAVE WEIGHTS EACH EPOCH"
   ]
  }
 ],
 "metadata": {
  "kernelspec": {
   "display_name": "Python 3",
   "language": "python",
   "name": "python3"
  },
  "language_info": {
   "codemirror_mode": {
    "name": "ipython",
    "version": 3
   },
   "file_extension": ".py",
   "mimetype": "text/x-python",
   "name": "python",
   "nbconvert_exporter": "python",
   "pygments_lexer": "ipython3",
   "version": "3.8.8"
  }
 },
 "nbformat": 4,
 "nbformat_minor": 5
}
